{
 "cells": [
  {
   "cell_type": "code",
   "execution_count": 2,
   "metadata": {},
   "outputs": [
    {
     "name": "stdout",
     "output_type": "stream",
     "text": [
      "稚(傳明酸、玻尿酸及植物萃取淨白成份 ,能夠沮\n",
      "腐並同時鎖住水份.洗顏、滋潤、淨白一\n",
      "\n",
      "8名 : 章田競粧抗黑淨白洗面乳。 用途       肌膚\n",
      "垃活性成份:傳明酸、複合淨白萃取(歐龍詭根、訪參\n",
      "相對、保白皮萃取) 、玻尿酸、甜菜飲、維他命E\n",
      "Water/Aqua, Stearic Acid, Glycerin,\n",
      "im Hydroxide, Palmitic Acid, Myristic Ad\n",
      "Sol Distearate, Sodium Methyl Cocoyl Taurale.\n",
      "Piyl Glucoside, Olive OiI PEG-7 Esters,\n",
      "xyethanol, Fragrance, Methylparaben,\n",
      "Mparaben, Tranexamic Acid, GentianaL0人7\n",
      "0Puact, Zostera Marina Extract, Hydro\n",
      " iopsis Pilosula Root Extract, Morus Al53  吧\n",
      "\n",
      "lt Sodi        l      te, Betaine,。 必\n",
      "ophe   2呈 Hyaluronate,         詞  b\n",
      "亡當 : 取思洗面乳按摩臉部後,再以溫水六\n",
      "\n",
      "再行使用。\n",
      "還代到上晴,讀立即用清水沖洗。 2和\n",
      "清水沖洗。 生和2\n",
      "\n",
      "信用本大品,請析於幼兒怕光過\n",
      "\n",
      "芒取物 ,    色會耳原料而二\n",
      "此為說地“還信人用\n",
      "ni3年 容蠅:\n",
      "San 容量 : 150g\n",
      "中和介丰員i革說陸洲蝦\n",
      "說人:涼席蟬上 服公司人台灣分公司\n",
      "同Bi光點休全對有限人i 深坑\n",
      "\n",
      "5區北深路三段111號1樓\n",
      "20 04.723443\n",
      "\n",
      "(過自\n",
      "\n",
      "        inue using and consrprod\n",
      "Wans ofalsrgg 3ppear pr\n",
      "the jmediateliy with wat Chi\n",
      "\n",
      "Sep abroqduct on babies an 9\n",
      "\n",
      "Bass ay frorm them-        dav0\n",
      "mcool drv place an\n",
      "\n",
      "\n"
     ]
    }
   ],
   "source": [
    "from PIL import Image\n",
    "import pytesseract\n",
    "\n",
    "img = Image.open('image/label2.jpg')\n",
    "text = pytesseract.image_to_string(img, lang='chi_tra')\n",
    "print(text)"
   ]
  },
  {
   "cell_type": "code",
   "execution_count": 7,
   "metadata": {},
   "outputs": [
    {
     "name": "stdout",
     "output_type": "stream",
     "text": [
      "Acid,StearicAcid, Gycery     Giycery Stearat,( 2\n",
      "語 lsostearate, Hydrogenated Castor Oil Glycol Disf。\n",
      "Mtnerot Potassium Hydroxi\n",
      "\n",
      "de, Tetrasodium EDTA,儿 一林\n",
      "yaluronate, Sodium Benzoate, Glycerin,\n",
      "和     Tragrance 單\n",
      "\n",
      "3生全化戰查臉和 喲\n",
      "bi '再以)        還晤\n",
      "\n",
      ",加水寺7\n",
      "\n",
      "以;   7              “人\n",
      "說間人處\"加旬日 閏弛\n",
      "AM 當論部肌膚 。 原 產 地:台灣 克\n",
      "AAB務直於產品上 保存期限:5征 妾2多\n",
      "卻: 線: (0800)211226              到弛\n",
      "bsS量: 100g\n",
      "\n"
     ]
    }
   ],
   "source": [
    "import cv2\n",
    "\n",
    "# Load an image from file\n",
    "image = cv2.imread('image/label.jpg')\n",
    "\n",
    "# Convert the image to grayscale\n",
    "image = cv2.cvtColor(image, cv2.COLOR_BGR2GRAY)\n",
    "\n",
    "# Save the grayscale image to a file\n",
    "cv2.imwrite('grayscale_image.jpg', image)\n",
    "\n",
    "# Display the original and grayscale images (optional)\n",
    "cv2.imshow('Original Image', image)\n",
    "\n",
    "text = pytesseract.image_to_string(image, lang='chi_tra')\n",
    "print(text)\n"
   ]
  }
 ],
 "metadata": {
  "kernelspec": {
   "display_name": "test_env",
   "language": "python",
   "name": "python3"
  },
  "language_info": {
   "codemirror_mode": {
    "name": "ipython",
    "version": 3
   },
   "file_extension": ".py",
   "mimetype": "text/x-python",
   "name": "python",
   "nbconvert_exporter": "python",
   "pygments_lexer": "ipython3",
   "version": "3.9.17"
  },
  "orig_nbformat": 4
 },
 "nbformat": 4,
 "nbformat_minor": 2
}
